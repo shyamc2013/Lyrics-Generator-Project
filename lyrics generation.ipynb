{
 "cells": [
  {
   "cell_type": "markdown",
   "metadata": {},
   "source": [
    "# Lyrics Generation Using Markov Chain "
   ]
  },
  {
   "cell_type": "markdown",
   "metadata": {},
   "source": [
    "- Load Text\n",
    "- Generate Frequency Table\n",
    "- Convert Frequency to Probablity\n",
    "- Train Model\n",
    "- Sample Next\n",
    "- Generate Text\n",
    "- Makes a text file with name 'genereted_lyrics'\n",
    "- Copy generated lyrics in it"
   ]
  },
  {
   "cell_type": "code",
   "execution_count": 23,
   "metadata": {},
   "outputs": [],
   "source": [
    "#load the file in text format\n",
    "def load_text(filename):\n",
    "    with open(filename, encoding= 'utf8') as f:\n",
    "        return f.read().lower()"
   ]
  },
  {
   "cell_type": "code",
   "execution_count": 24,
   "metadata": {},
   "outputs": [],
   "source": [
    "#make a transition table(dictionary) of frequencies\n",
    "def generate_table(text, k):\n",
    "    T = {}\n",
    "    for i in range(len(text)- k):\n",
    "        X = text[i:i+k]\n",
    "        y = text[i+k]\n",
    "        \n",
    "        if T.get(X) is None:\n",
    "            T[X] = {}\n",
    "        if T[X].get(y) is None:\n",
    "            T[X][y] = 1\n",
    "        else:\n",
    "            T[X][y] += 1\n",
    "    \n",
    "    return T"
   ]
  },
  {
   "cell_type": "code",
   "execution_count": 25,
   "metadata": {},
   "outputs": [],
   "source": [
    "#convert the frequency to probablity values\n",
    "def convertFreqIntoProb(T):\n",
    "    for kx in T.keys():\n",
    "        s = float(sum(T[kx].values()))\n",
    "        for k in T[kx].keys():\n",
    "            T[kx][k] /= s\n",
    "    return T"
   ]
  },
  {
   "cell_type": "code",
   "execution_count": 26,
   "metadata": {},
   "outputs": [],
   "source": [
    "#train the markov chain model\n",
    "def train_model(text, k):\n",
    "    T = generate_table(text, k)\n",
    "    T = convertFreqIntoProb(T)\n",
    "    \n",
    "    return T"
   ]
  },
  {
   "cell_type": "code",
   "execution_count": 27,
   "metadata": {},
   "outputs": [],
   "source": [
    "import numpy as np"
   ]
  },
  {
   "cell_type": "code",
   "execution_count": 28,
   "metadata": {},
   "outputs": [
    {
     "output_type": "execute_result",
     "data": {
      "text/plain": [
       "1360"
      ]
     },
     "metadata": {},
     "execution_count": 28
    }
   ],
   "source": [
    "filename = 'Apna Time Aayega.txt'\n",
    "text = load_text(filename)\n",
    "model = train_model(text, 4)\n",
    "len(text)"
   ]
  },
  {
   "cell_type": "code",
   "execution_count": 29,
   "metadata": {},
   "outputs": [],
   "source": [
    "def sample_next(ctx, k):\n",
    "    ctx = ctx[-k:]\n",
    "    if model.get(ctx) is None:\n",
    "        return ' '\n",
    "    possible_chars = list(model[ctx].keys())\n",
    "    probs = list(model[ctx].values())\n",
    "    \n",
    "    return np.random.choice(possible_chars, p= probs)"
   ]
  },
  {
   "cell_type": "code",
   "execution_count": 30,
   "metadata": {},
   "outputs": [],
   "source": [
    "def generate_text(starting_sent, k, maxlen):\n",
    "    sentence = starting_sent\n",
    "    \n",
    "    ctx = sentence[-k:]\n",
    "    np.random.seed(11)\n",
    "    for i in range(maxlen):\n",
    "        next_char = sample_next(ctx, k)\n",
    "        sentence += next_char\n",
    "        if sentence[-2:] == '\\n\\n':\n",
    "            sentence += sentence[0:4]\n",
    "        ctx = sentence[-k:]\n",
    "    return sentence"
   ]
  },
  {
   "cell_type": "code",
   "execution_count": 31,
   "metadata": {},
   "outputs": [],
   "source": [
    "generator_size = int(input('Enter the number of characters you want in your generated text'))\n",
    "lyrics = generate_text('apna', 4, generator_size)"
   ]
  },
  {
   "cell_type": "code",
   "execution_count": 32,
   "metadata": {},
   "outputs": [],
   "source": [
    "f = open('generated_lyrics.txt' , 'w')\n",
    "f.write(lyrics)\n",
    "f.close()"
   ]
  },
  {
   "cell_type": "code",
   "execution_count": null,
   "metadata": {},
   "outputs": [],
   "source": []
  }
 ],
 "metadata": {
  "kernelspec": {
   "display_name": "Python 3",
   "language": "python",
   "name": "python3"
  },
  "language_info": {
   "codemirror_mode": {
    "name": "ipython",
    "version": 3
   },
   "file_extension": ".py",
   "mimetype": "text/x-python",
   "name": "python",
   "nbconvert_exporter": "python",
   "pygments_lexer": "ipython3",
   "version": "3.8.5"
  }
 },
 "nbformat": 4,
 "nbformat_minor": 4
}